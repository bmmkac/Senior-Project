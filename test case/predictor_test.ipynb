{
 "cells": [
  {
   "cell_type": "code",
   "execution_count": 1,
   "metadata": {},
   "outputs": [
    {
     "name": "stderr",
     "output_type": "stream",
     "text": [
      "Using TensorFlow backend.\n"
     ]
    }
   ],
   "source": [
    "import os\n",
    "import sys\n",
    "\n",
    "import numpy as np\n",
    "import warnings\n",
    "\n",
    "#stderr = sys.stderr\n",
    "#sys.stderr = open(os.devnull, 'w')\n",
    "from keras import backend as K\n",
    "from keras.layers import Activation, Dropout, Flatten, Dense\n",
    "from keras.layers import Conv2D, MaxPooling2D\n",
    "from keras.models import Sequential\n",
    "from keras.preprocessing import image\n",
    "#sys.stderr = stderr\n",
    "\n",
    "import os\n",
    "os.environ['TF_CPP_MIN_LOG_LEVEL'] = '2'\n",
    "\n",
    "# dimensions of our images\n",
    "img_width, img_height = 50, 50\n",
    "if K.image_data_format() == 'channels_first':\n",
    "    input_shape = (3, img_width, img_height)\n",
    "else:\n",
    "    input_shape = (img_width, img_height, 3)\n",
    "\n",
    "THRESHOLD = 0.95\n",
    "\n",
    "\n",
    "class Predict:\n",
    "\n",
    "\n",
    "    def __init__(self):\n",
    "        # build model\n",
    "\n",
    "        model = Sequential()\n",
    "        model.add(Conv2D(32, (3, 3), input_shape=input_shape))\n",
    "        model.add(Activation('relu'))\n",
    "        model.add(MaxPooling2D(pool_size=(2, 2)))\n",
    "\n",
    "        model.add(Conv2D(32, (3, 3)))\n",
    "        model.add(Activation('relu'))\n",
    "        model.add(MaxPooling2D(pool_size=(2, 2)))\n",
    "\n",
    "        model.add(Conv2D(64, (3, 3)))\n",
    "        model.add(Activation('relu'))\n",
    "        model.add(MaxPooling2D(pool_size=(2, 2)))\n",
    "\n",
    "        model.add(Flatten())\n",
    "        model.add(Dense(64))\n",
    "        model.add(Activation('relu'))\n",
    "        model.add(Dropout(0.5))\n",
    "        model.add(Dense(1))\n",
    "        model.add(Activation('sigmoid'))\n",
    "\n",
    "        model.compile(loss='binary_crossentropy',\n",
    "                      optimizer='rmsprop',\n",
    "                      metrics=['accuracy'])\n",
    "\n",
    "        # load model\n",
    "        model.load_weights(os.path.join(os.path.abspath(''), 'model', 'model.h5'))\n",
    "        self.model = model\n",
    "\n",
    "    def predict_img_class(self, img):\n",
    "        result = self.model.predict(img)\n",
    "        if result < THRESHOLD:\n",
    "            classification = \"ecell\"\n",
    "        else:\n",
    "            classification = \"non-ecell\"\n",
    "        return classification\n",
    "\n",
    "    def predict_img_class_folder(self, path):\n",
    "        classifications = {}\n",
    "\n",
    "        for img in os.listdir(path):\n",
    "            imgpath = path + \"/\" + img\n",
    "            test_image = image.load_img(imgpath, target_size=(img_width, img_height))\n",
    "            test_image = image.img_to_array(test_image)\n",
    "            test_image = np.expand_dims(test_image, axis=0)\n",
    "            result = self.model.predict(test_image)\n",
    "            if result < THRESHOLD:\n",
    "                classification = \"ecell\"\n",
    "\n",
    "            else:\n",
    "                classification = \"non-ecell\"\n",
    "\n",
    "            classifications[img] = classification\n",
    "\n",
    "        return classifications\n",
    "\n",
    "\n",
    "    #image_list - the list of 50 by 50 pixel images as nd.arrays()\n",
    "    # center list - list of tuples of int, the centers (x,y) of each image\n",
    "    def filter_positive_classifications(self, image_list, center_list):\n",
    "        ecell_center_list = []\n",
    "        for i, img in enumerate(image_list):\n",
    "            if img.shape != (50,50,3):\n",
    "                continue\n",
    "            test_image = img.astype(np.float32)\n",
    "            test_image = np.expand_dims(test_image, axis=0)\n",
    "            result = self.model.predict(test_image)\n",
    "            if result < THRESHOLD:\n",
    "                ecell_center_list.append(center_list[i])\n",
    "        return ecell_center_list\n",
    "\n"
   ]
  },
  {
   "cell_type": "code",
   "execution_count": 2,
   "metadata": {},
   "outputs": [
    {
     "name": "stdout",
     "output_type": "stream",
     "text": [
      "/Users/apple/Desktop/CurrentClass/Senior_Design/digital_pathology/digital-pathology-master/src/SlideAnalysis/src/py\n"
     ]
    }
   ],
   "source": [
    "print(os.path.abspath(''))"
   ]
  },
  {
   "cell_type": "code",
   "execution_count": 29,
   "metadata": {},
   "outputs": [
    {
     "data": {
      "image/png": "[encoded data removed]",
      "text/plain": [
       "<Figure size 432x288 with 1 Axes>"
      ]
     },
     "metadata": {
      "needs_background": "light"
     },
     "output_type": "display_data"
    }
   ],
   "source": [
    "import matplotlib.pyplot as plt\n",
    "\n",
    "def plt_dynamic(x, y, ax, colors):\n",
    "    for color in colors:\n",
    "        ax.plot(x, y, color)\n",
    "    fig.canvas.draw()\n",
    "    \n",
    "    \n",
    "if __name__ == '__main__':\n",
    "    p = Predict()\n",
    "    fig,ax = plt.subplots(1,1)\n",
    "    ax.set_xlabel('X') ; ax.set_ylabel('Y')\n",
    "    ax.set_xlim(0,360) ; ax.set_ylim(-1,1)\n",
    "    p_x = []\n",
    "    r_x = []\n",
    "    f_x = []\n",
    "    total_precision = []\n",
    "    total_recall = []\n",
    "    total_f_measure = []\n",
    "    for i in [x * 0.01 for x in range(1,100)]:\n",
    "        THRESHOLD = i\n",
    "        classes1 = p.predict_img_class_folder(\"/Users/apple/Desktop/CurrentClass/Senior_Design/digital_pathology/digital-pathology-master/src/SlideAnalysis/src/py/cellData/eosinophil\")\n",
    "        classes2 = p.predict_img_class_folder(\"/Users/apple/Desktop/CurrentClass/Senior_Design/digital_pathology/digital-pathology-master/src/SlideAnalysis/src/py/cellData/non-eosinophil\")\n",
    "        #print(classes)\n",
    "        TP = len([k for k,v in classes1.items() if v == 'ecell'])\n",
    "        FN = len([k for k,v in classes1.items() if v == 'non-ecell'])\n",
    "        FP = len([k for k,v in classes2.items() if v == 'ecell'])\n",
    "        TN = len([k for k,v in classes2.items() if v == 'non-ecell'])\n",
    "        \n",
    "        precision = None\n",
    "        recall = None\n",
    "        f_measure = None\n",
    "        if TP+FP!=0:\n",
    "            precision = TP/(TP+FP)\n",
    "            total_precision.append(precision)\n",
    "            p_x.append(i)\n",
    "            \n",
    "               \n",
    "            \n",
    "        if TP+FN !=0:\n",
    "            recall = TP/(TP+FN)\n",
    "            total_recall.append(recall)\n",
    "            r_x.append(i)\n",
    "            \n",
    "                \n",
    "        if precision!=None and recall != None:\n",
    "            \n",
    "            f_measure = (2*precision*recall)/(precision+recall)\n",
    "            total_f_measure.append(f_measure)\n",
    "            f_x.append(i)\n",
    "            \n",
    "        \n",
    "       # total_precision.append(precision)\n",
    "       # total_recall.append(recall)\n",
    "       # total_f_measure.append(f_measure)\n",
    "\n",
    "    #print(classes1\n",
    "    \n",
    "plt_dynamic(p_x, total_precision, ax,['r'])\n",
    "#plt_dynamic(r_x, total_recall, ax,['g'])\n",
    "#plt_dynamic(f_x, total_f_measure, ax,['b'])"
   ]
  },
  {
   "cell_type": "code",
   "execution_count": 30,
   "metadata": {},
   "outputs": [
    {
     "data": {
      "text/plain": [
       "<function matplotlib.pyplot.show(*args, **kw)>"
      ]
     },
     "execution_count": 30,
     "metadata": {},
     "output_type": "execute_result"
    },
    {
     "data": {
      "image/png": "[encoded data removed]",
      "text/plain": [
       "<Figure size 432x288 with 1 Axes>"
      ]
     },
     "metadata": {
      "needs_background": "light"
     },
     "output_type": "display_data"
    }
   ],
   "source": [
    "\n",
    "plt.plot(p_x, total_precision) \n",
    "plt.title('Precision')\n",
    "plt.xlabel('threshold')\n",
    "plt.ylabel('precision')\n",
    "plt.show\n"
   ]
  },
  {
   "cell_type": "code",
   "execution_count": 31,
   "metadata": {},
   "outputs": [
    {
     "data": {
      "text/plain": [
       "<function matplotlib.pyplot.show(*args, **kw)>"
      ]
     },
     "execution_count": 31,
     "metadata": {},
     "output_type": "execute_result"
    },
    {
     "data": {
      "image/png": "[encoded data removed]",
      "text/plain": [
       "<Figure size 432x288 with 1 Axes>"
      ]
     },
     "metadata": {
      "needs_background": "light"
     },
     "output_type": "display_data"
    }
   ],
   "source": [
    "plt.plot(r_x, total_recall) \n",
    "plt.title('Recall')\n",
    "plt.xlabel('threshold')\n",
    "plt.ylabel('recall')\n",
    "plt.show\n"
   ]
  },
  {
   "cell_type": "code",
   "execution_count": 32,
   "metadata": {},
   "outputs": [
    {
     "data": {
      "text/plain": [
       "<function matplotlib.pyplot.show(*args, **kw)>"
      ]
     },
     "execution_count": 32,
     "metadata": {},
     "output_type": "execute_result"
    },
    {
     "data": {
      "image/png": "[encoded data removed]",
      "text/plain": [
       "<Figure size 432x288 with 1 Axes>"
      ]
     },
     "metadata": {
      "needs_background": "light"
     },
     "output_type": "display_data"
    }
   ],
   "source": [
    "plt.plot(f_x, total_f_measure) \n",
    "plt.title('F-Measure')\n",
    "plt.xlabel('threshold')\n",
    "plt.ylabel('f-measure')\n",
    "plt.show"
   ]
  },
  {
   "cell_type": "code",
   "execution_count": 12,
   "metadata": {},
   "outputs": [
    {
     "data": {
      "text/plain": [
       "[0.926829268292683,\n",
       " 0.7086527929901424,\n",
       " 0.6311207834602829,\n",
       " 0.5691449814126394,\n",
       " 0.5269784172661871,\n",
       " 0.4807692307692308,\n",
       " 0.4403292181069959,\n",
       " 0.41811175337186895,\n",
       " 0.3956748097717261,\n",
       " 0.3545085583200988]"
      ]
     },
     "execution_count": 12,
     "metadata": {},
     "output_type": "execute_result"
    }
   ],
   "source": [
    "total_precision"
   ]
  },
  {
   "cell_type": "code",
   "execution_count": 14,
   "metadata": {},
   "outputs": [
    {
     "data": {
      "text/plain": [
       "[0.03675048355899419,\n",
       " 0.4401360544217687,\n",
       " 0.6002587322121604,\n",
       " 0.6491414034343862,\n",
       " 0.6556032071601716,\n",
       " 0.6326978235194871,\n",
       " 0.6017809717231682,\n",
       " 0.5831591519856674,\n",
       " 0.5628827802307365,\n",
       " 0.5222251104756954]"
      ]
     },
     "execution_count": 14,
     "metadata": {},
     "output_type": "execute_result"
    }
   ],
   "source": [
    "total_f_measure"
   ]
  },
  {
   "cell_type": "code",
   "execution_count": 8,
   "metadata": {},
   "outputs": [
    {
     "data": {
      "text/plain": [
       "[0.01, 0.11, 0.21, 0.31, 0.41000000000000003, 0.51, 0.61, 0.71, 0.81, 0.91]"
      ]
     },
     "execution_count": 8,
     "metadata": {},
     "output_type": "execute_result"
    }
   ],
   "source": [
    "[x * 0.01 for x in range(1,100,10)]"
   ]
  },
  {
   "cell_type": "code",
   "execution_count": 5,
   "metadata": {},
   "outputs": [
    {
     "data": {
      "image/png": "[encoded data removed]",
      "text/plain": [
       "<Figure size 432x288 with 1 Axes>"
      ]
     },
     "metadata": {
      "needs_background": "light"
     },
     "output_type": "display_data"
    }
   ],
   "source": [
    "import matplotlib.pyplot as plt\n",
    "\n",
    "import time\n",
    "\n",
    "def plt_dynamic(x, y, ax, colors=['b']):\n",
    "    for color in colors:\n",
    "        ax.plot(x, y, color)\n",
    "    fig.canvas.draw()\n",
    "    \n",
    "fig,ax = plt.subplots(1,1)\n",
    "ax.set_xlabel('X') ; ax.set_ylabel('Y')\n",
    "ax.set_xlim(0,360) ; ax.set_ylim(-1,1)\n",
    "xs, ys = [], []\n",
    "\n",
    "# this is any loop for which you want to plot dynamic updates.\n",
    "# in my case, I'm plotting loss functions for neural nets\n",
    "for x in range(360):\n",
    "    y = np.sin(x*np.pi/180)\n",
    "    xs.append(x)\n",
    "    ys.append(y)\n",
    "    if x % 30 == 0:\n",
    "        plt_dynamic(xs, ys, ax)\n",
    "        time.sleep(.2)\n",
    "plt_dynamic(xs, ys, ax)"
   ]
  },
  {
   "cell_type": "code",
   "execution_count": null,
   "metadata": {},
   "outputs": [],
   "source": []
  },
  {
   "cell_type": "code",
   "execution_count": null,
   "metadata": {},
   "outputs": [],
   "source": []
  }
 ],
 "metadata": {
  "kernelspec": {
   "display_name": "Python 3",
   "language": "python",
   "name": "python3"
  },
  "language_info": {
   "codemirror_mode": {
    "name": "ipython",
    "version": 3
   },
   "file_extension": ".py",
   "mimetype": "text/x-python",
   "name": "python",
   "nbconvert_exporter": "python",
   "pygments_lexer": "ipython3",
   "version": "3.7.2"
  }
 },
 "nbformat": 4,
 "nbformat_minor": 2
}
